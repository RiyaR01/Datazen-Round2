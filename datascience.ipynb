{
 "cells": [
  {
   "cell_type": "markdown",
   "metadata": {},
   "source": [
    "# Datazen Round 2 - DataScience"
   ]
  },
  {
   "cell_type": "markdown",
   "metadata": {},
   "source": [
    "## Importing the libraries"
   ]
  },
  {
   "cell_type": "code",
   "execution_count": 1,
   "metadata": {},
   "outputs": [],
   "source": [
    "import numpy as np\n",
    "import matplotlib.pyplot as plt\n",
    "import pandas as pd"
   ]
  },
  {
   "cell_type": "markdown",
   "metadata": {},
   "source": [
    "## Importing the dataset"
   ]
  },
  {
   "cell_type": "code",
   "execution_count": 2,
   "metadata": {},
   "outputs": [
    {
     "data": {
      "text/html": [
       "<div>\n",
       "<style scoped>\n",
       "    .dataframe tbody tr th:only-of-type {\n",
       "        vertical-align: middle;\n",
       "    }\n",
       "\n",
       "    .dataframe tbody tr th {\n",
       "        vertical-align: top;\n",
       "    }\n",
       "\n",
       "    .dataframe thead th {\n",
       "        text-align: right;\n",
       "    }\n",
       "</style>\n",
       "<table border=\"1\" class=\"dataframe\">\n",
       "  <thead>\n",
       "    <tr style=\"text-align: right;\">\n",
       "      <th></th>\n",
       "      <th>InvoiceNo</th>\n",
       "      <th>StockCode</th>\n",
       "      <th>Description</th>\n",
       "      <th>Quantity</th>\n",
       "      <th>InvoiceDate</th>\n",
       "      <th>UnitPrice</th>\n",
       "      <th>CustomerID</th>\n",
       "      <th>Country</th>\n",
       "    </tr>\n",
       "  </thead>\n",
       "  <tbody>\n",
       "    <tr>\n",
       "      <td>0</td>\n",
       "      <td>6141</td>\n",
       "      <td>1583</td>\n",
       "      <td>144</td>\n",
       "      <td>3</td>\n",
       "      <td>2011-05-06 16:54:00</td>\n",
       "      <td>3.75</td>\n",
       "      <td>14056.0</td>\n",
       "      <td>35</td>\n",
       "    </tr>\n",
       "    <tr>\n",
       "      <td>1</td>\n",
       "      <td>6349</td>\n",
       "      <td>1300</td>\n",
       "      <td>3682</td>\n",
       "      <td>6</td>\n",
       "      <td>2011-05-11 07:35:00</td>\n",
       "      <td>1.95</td>\n",
       "      <td>13098.0</td>\n",
       "      <td>35</td>\n",
       "    </tr>\n",
       "    <tr>\n",
       "      <td>2</td>\n",
       "      <td>16783</td>\n",
       "      <td>2178</td>\n",
       "      <td>1939</td>\n",
       "      <td>4</td>\n",
       "      <td>2011-11-20 13:20:00</td>\n",
       "      <td>5.95</td>\n",
       "      <td>15044.0</td>\n",
       "      <td>35</td>\n",
       "    </tr>\n",
       "    <tr>\n",
       "      <td>3</td>\n",
       "      <td>16971</td>\n",
       "      <td>2115</td>\n",
       "      <td>2983</td>\n",
       "      <td>1</td>\n",
       "      <td>2011-11-22 12:07:00</td>\n",
       "      <td>0.83</td>\n",
       "      <td>15525.0</td>\n",
       "      <td>35</td>\n",
       "    </tr>\n",
       "    <tr>\n",
       "      <td>4</td>\n",
       "      <td>6080</td>\n",
       "      <td>1210</td>\n",
       "      <td>2886</td>\n",
       "      <td>12</td>\n",
       "      <td>2011-05-06 09:00:00</td>\n",
       "      <td>1.65</td>\n",
       "      <td>13952.0</td>\n",
       "      <td>35</td>\n",
       "    </tr>\n",
       "    <tr>\n",
       "      <td>5</td>\n",
       "      <td>17388</td>\n",
       "      <td>495</td>\n",
       "      <td>3247</td>\n",
       "      <td>5</td>\n",
       "      <td>2011-11-27 12:52:00</td>\n",
       "      <td>1.65</td>\n",
       "      <td>15351.0</td>\n",
       "      <td>35</td>\n",
       "    </tr>\n",
       "    <tr>\n",
       "      <td>6</td>\n",
       "      <td>18494</td>\n",
       "      <td>165</td>\n",
       "      <td>3377</td>\n",
       "      <td>1</td>\n",
       "      <td>2011-12-08 20:01:00</td>\n",
       "      <td>1.25</td>\n",
       "      <td>12748.0</td>\n",
       "      <td>35</td>\n",
       "    </tr>\n",
       "    <tr>\n",
       "      <td>7</td>\n",
       "      <td>17109</td>\n",
       "      <td>2597</td>\n",
       "      <td>3435</td>\n",
       "      <td>1</td>\n",
       "      <td>2011-11-23 12:40:00</td>\n",
       "      <td>1.25</td>\n",
       "      <td>16255.0</td>\n",
       "      <td>35</td>\n",
       "    </tr>\n",
       "    <tr>\n",
       "      <td>8</td>\n",
       "      <td>17143</td>\n",
       "      <td>1945</td>\n",
       "      <td>2352</td>\n",
       "      <td>1</td>\n",
       "      <td>2011-11-23 14:07:00</td>\n",
       "      <td>5.75</td>\n",
       "      <td>17841.0</td>\n",
       "      <td>35</td>\n",
       "    </tr>\n",
       "    <tr>\n",
       "      <td>9</td>\n",
       "      <td>8422</td>\n",
       "      <td>3311</td>\n",
       "      <td>2502</td>\n",
       "      <td>6</td>\n",
       "      <td>2011-06-22 10:11:00</td>\n",
       "      <td>2.95</td>\n",
       "      <td>13849.0</td>\n",
       "      <td>35</td>\n",
       "    </tr>\n",
       "  </tbody>\n",
       "</table>\n",
       "</div>"
      ],
      "text/plain": [
       "   InvoiceNo  StockCode  Description  Quantity          InvoiceDate  \\\n",
       "0       6141       1583          144         3  2011-05-06 16:54:00   \n",
       "1       6349       1300         3682         6  2011-05-11 07:35:00   \n",
       "2      16783       2178         1939         4  2011-11-20 13:20:00   \n",
       "3      16971       2115         2983         1  2011-11-22 12:07:00   \n",
       "4       6080       1210         2886        12  2011-05-06 09:00:00   \n",
       "5      17388        495         3247         5  2011-11-27 12:52:00   \n",
       "6      18494        165         3377         1  2011-12-08 20:01:00   \n",
       "7      17109       2597         3435         1  2011-11-23 12:40:00   \n",
       "8      17143       1945         2352         1  2011-11-23 14:07:00   \n",
       "9       8422       3311         2502         6  2011-06-22 10:11:00   \n",
       "\n",
       "   UnitPrice  CustomerID  Country  \n",
       "0       3.75     14056.0       35  \n",
       "1       1.95     13098.0       35  \n",
       "2       5.95     15044.0       35  \n",
       "3       0.83     15525.0       35  \n",
       "4       1.65     13952.0       35  \n",
       "5       1.65     15351.0       35  \n",
       "6       1.25     12748.0       35  \n",
       "7       1.25     16255.0       35  \n",
       "8       5.75     17841.0       35  \n",
       "9       2.95     13849.0       35  "
      ]
     },
     "execution_count": 2,
     "metadata": {},
     "output_type": "execute_result"
    }
   ],
   "source": [
    "data = pd.read_csv('tech_team_train.csv')\n",
    "data.head(10)"
   ]
  },
  {
   "cell_type": "code",
   "execution_count": 3,
   "metadata": {},
   "outputs": [
    {
     "data": {
      "text/html": [
       "<div>\n",
       "<style scoped>\n",
       "    .dataframe tbody tr th:only-of-type {\n",
       "        vertical-align: middle;\n",
       "    }\n",
       "\n",
       "    .dataframe tbody tr th {\n",
       "        vertical-align: top;\n",
       "    }\n",
       "\n",
       "    .dataframe thead th {\n",
       "        text-align: right;\n",
       "    }\n",
       "</style>\n",
       "<table border=\"1\" class=\"dataframe\">\n",
       "  <thead>\n",
       "    <tr style=\"text-align: right;\">\n",
       "      <th></th>\n",
       "      <th>InvoiceNo</th>\n",
       "      <th>StockCode</th>\n",
       "      <th>Description</th>\n",
       "      <th>Quantity</th>\n",
       "      <th>InvoiceDate</th>\n",
       "      <th>UnitPrice</th>\n",
       "      <th>CustomerID</th>\n",
       "      <th>Country</th>\n",
       "      <th>TotalPrice</th>\n",
       "    </tr>\n",
       "  </thead>\n",
       "  <tbody>\n",
       "    <tr>\n",
       "      <td>0</td>\n",
       "      <td>6141</td>\n",
       "      <td>1583</td>\n",
       "      <td>144</td>\n",
       "      <td>3</td>\n",
       "      <td>2011-05-06 16:54:00</td>\n",
       "      <td>3.75</td>\n",
       "      <td>14056.0</td>\n",
       "      <td>35</td>\n",
       "      <td>11.25</td>\n",
       "    </tr>\n",
       "    <tr>\n",
       "      <td>1</td>\n",
       "      <td>6349</td>\n",
       "      <td>1300</td>\n",
       "      <td>3682</td>\n",
       "      <td>6</td>\n",
       "      <td>2011-05-11 07:35:00</td>\n",
       "      <td>1.95</td>\n",
       "      <td>13098.0</td>\n",
       "      <td>35</td>\n",
       "      <td>11.70</td>\n",
       "    </tr>\n",
       "    <tr>\n",
       "      <td>2</td>\n",
       "      <td>16783</td>\n",
       "      <td>2178</td>\n",
       "      <td>1939</td>\n",
       "      <td>4</td>\n",
       "      <td>2011-11-20 13:20:00</td>\n",
       "      <td>5.95</td>\n",
       "      <td>15044.0</td>\n",
       "      <td>35</td>\n",
       "      <td>23.80</td>\n",
       "    </tr>\n",
       "    <tr>\n",
       "      <td>3</td>\n",
       "      <td>16971</td>\n",
       "      <td>2115</td>\n",
       "      <td>2983</td>\n",
       "      <td>1</td>\n",
       "      <td>2011-11-22 12:07:00</td>\n",
       "      <td>0.83</td>\n",
       "      <td>15525.0</td>\n",
       "      <td>35</td>\n",
       "      <td>0.83</td>\n",
       "    </tr>\n",
       "    <tr>\n",
       "      <td>4</td>\n",
       "      <td>6080</td>\n",
       "      <td>1210</td>\n",
       "      <td>2886</td>\n",
       "      <td>12</td>\n",
       "      <td>2011-05-06 09:00:00</td>\n",
       "      <td>1.65</td>\n",
       "      <td>13952.0</td>\n",
       "      <td>35</td>\n",
       "      <td>19.80</td>\n",
       "    </tr>\n",
       "    <tr>\n",
       "      <td>...</td>\n",
       "      <td>...</td>\n",
       "      <td>...</td>\n",
       "      <td>...</td>\n",
       "      <td>...</td>\n",
       "      <td>...</td>\n",
       "      <td>...</td>\n",
       "      <td>...</td>\n",
       "      <td>...</td>\n",
       "      <td>...</td>\n",
       "    </tr>\n",
       "    <tr>\n",
       "      <td>199995</td>\n",
       "      <td>19930</td>\n",
       "      <td>170</td>\n",
       "      <td>1953</td>\n",
       "      <td>-1</td>\n",
       "      <td>2011-05-12 10:29:00</td>\n",
       "      <td>1.65</td>\n",
       "      <td>14606.0</td>\n",
       "      <td>35</td>\n",
       "      <td>-1.65</td>\n",
       "    </tr>\n",
       "    <tr>\n",
       "      <td>199996</td>\n",
       "      <td>9942</td>\n",
       "      <td>2075</td>\n",
       "      <td>3500</td>\n",
       "      <td>6</td>\n",
       "      <td>2011-07-27 14:21:00</td>\n",
       "      <td>2.08</td>\n",
       "      <td>12397.0</td>\n",
       "      <td>3</td>\n",
       "      <td>12.48</td>\n",
       "    </tr>\n",
       "    <tr>\n",
       "      <td>199997</td>\n",
       "      <td>15999</td>\n",
       "      <td>856</td>\n",
       "      <td>318</td>\n",
       "      <td>2</td>\n",
       "      <td>2011-11-11 10:49:00</td>\n",
       "      <td>3.75</td>\n",
       "      <td>17295.0</td>\n",
       "      <td>35</td>\n",
       "      <td>7.50</td>\n",
       "    </tr>\n",
       "    <tr>\n",
       "      <td>199998</td>\n",
       "      <td>3833</td>\n",
       "      <td>441</td>\n",
       "      <td>2424</td>\n",
       "      <td>1</td>\n",
       "      <td>2011-03-11 13:03:00</td>\n",
       "      <td>0.85</td>\n",
       "      <td>15311.0</td>\n",
       "      <td>35</td>\n",
       "      <td>0.85</td>\n",
       "    </tr>\n",
       "    <tr>\n",
       "      <td>199999</td>\n",
       "      <td>13431</td>\n",
       "      <td>930</td>\n",
       "      <td>1128</td>\n",
       "      <td>12</td>\n",
       "      <td>2011-10-05 15:52:00</td>\n",
       "      <td>0.42</td>\n",
       "      <td>12723.0</td>\n",
       "      <td>13</td>\n",
       "      <td>5.04</td>\n",
       "    </tr>\n",
       "  </tbody>\n",
       "</table>\n",
       "<p>200000 rows × 9 columns</p>\n",
       "</div>"
      ],
      "text/plain": [
       "        InvoiceNo  StockCode  Description  Quantity          InvoiceDate  \\\n",
       "0            6141       1583          144         3  2011-05-06 16:54:00   \n",
       "1            6349       1300         3682         6  2011-05-11 07:35:00   \n",
       "2           16783       2178         1939         4  2011-11-20 13:20:00   \n",
       "3           16971       2115         2983         1  2011-11-22 12:07:00   \n",
       "4            6080       1210         2886        12  2011-05-06 09:00:00   \n",
       "...           ...        ...          ...       ...                  ...   \n",
       "199995      19930        170         1953        -1  2011-05-12 10:29:00   \n",
       "199996       9942       2075         3500         6  2011-07-27 14:21:00   \n",
       "199997      15999        856          318         2  2011-11-11 10:49:00   \n",
       "199998       3833        441         2424         1  2011-03-11 13:03:00   \n",
       "199999      13431        930         1128        12  2011-10-05 15:52:00   \n",
       "\n",
       "        UnitPrice  CustomerID  Country  TotalPrice  \n",
       "0            3.75     14056.0       35       11.25  \n",
       "1            1.95     13098.0       35       11.70  \n",
       "2            5.95     15044.0       35       23.80  \n",
       "3            0.83     15525.0       35        0.83  \n",
       "4            1.65     13952.0       35       19.80  \n",
       "...           ...         ...      ...         ...  \n",
       "199995       1.65     14606.0       35       -1.65  \n",
       "199996       2.08     12397.0        3       12.48  \n",
       "199997       3.75     17295.0       35        7.50  \n",
       "199998       0.85     15311.0       35        0.85  \n",
       "199999       0.42     12723.0       13        5.04  \n",
       "\n",
       "[200000 rows x 9 columns]"
      ]
     },
     "execution_count": 3,
     "metadata": {},
     "output_type": "execute_result"
    }
   ],
   "source": [
    "## Adding the 'TotalPrice' column to the dataset by multiplying the values in the 'Quantity' and 'UnitPrice'column\n",
    "data['TotalPrice'] = data['Quantity'] * data['UnitPrice']\n",
    "data"
   ]
  },
  {
   "cell_type": "code",
   "execution_count": 4,
   "metadata": {},
   "outputs": [
    {
     "data": {
      "text/html": [
       "<div>\n",
       "<style scoped>\n",
       "    .dataframe tbody tr th:only-of-type {\n",
       "        vertical-align: middle;\n",
       "    }\n",
       "\n",
       "    .dataframe tbody tr th {\n",
       "        vertical-align: top;\n",
       "    }\n",
       "\n",
       "    .dataframe thead th {\n",
       "        text-align: right;\n",
       "    }\n",
       "</style>\n",
       "<table border=\"1\" class=\"dataframe\">\n",
       "  <thead>\n",
       "    <tr style=\"text-align: right;\">\n",
       "      <th></th>\n",
       "      <th>InvoiceNo</th>\n",
       "      <th>StockCode</th>\n",
       "      <th>Description</th>\n",
       "      <th>Quantity</th>\n",
       "      <th>InvoiceDate</th>\n",
       "      <th>UnitPrice</th>\n",
       "      <th>CustomerID</th>\n",
       "      <th>Country</th>\n",
       "      <th>TotalPrice</th>\n",
       "    </tr>\n",
       "  </thead>\n",
       "  <tbody>\n",
       "    <tr>\n",
       "      <td>0</td>\n",
       "      <td>6141</td>\n",
       "      <td>1583</td>\n",
       "      <td>144</td>\n",
       "      <td>3</td>\n",
       "      <td>2011-05-06 16:54:00</td>\n",
       "      <td>3.75</td>\n",
       "      <td>14056.0</td>\n",
       "      <td>35</td>\n",
       "      <td>11.25</td>\n",
       "    </tr>\n",
       "    <tr>\n",
       "      <td>1</td>\n",
       "      <td>6349</td>\n",
       "      <td>1300</td>\n",
       "      <td>3682</td>\n",
       "      <td>6</td>\n",
       "      <td>2011-05-11 07:35:00</td>\n",
       "      <td>1.95</td>\n",
       "      <td>13098.0</td>\n",
       "      <td>35</td>\n",
       "      <td>11.70</td>\n",
       "    </tr>\n",
       "    <tr>\n",
       "      <td>2</td>\n",
       "      <td>16783</td>\n",
       "      <td>2178</td>\n",
       "      <td>1939</td>\n",
       "      <td>4</td>\n",
       "      <td>2011-11-20 13:20:00</td>\n",
       "      <td>5.95</td>\n",
       "      <td>15044.0</td>\n",
       "      <td>35</td>\n",
       "      <td>23.80</td>\n",
       "    </tr>\n",
       "    <tr>\n",
       "      <td>3</td>\n",
       "      <td>16971</td>\n",
       "      <td>2115</td>\n",
       "      <td>2983</td>\n",
       "      <td>1</td>\n",
       "      <td>2011-11-22 12:07:00</td>\n",
       "      <td>0.83</td>\n",
       "      <td>15525.0</td>\n",
       "      <td>35</td>\n",
       "      <td>0.83</td>\n",
       "    </tr>\n",
       "    <tr>\n",
       "      <td>4</td>\n",
       "      <td>6080</td>\n",
       "      <td>1210</td>\n",
       "      <td>2886</td>\n",
       "      <td>12</td>\n",
       "      <td>2011-05-06 09:00:00</td>\n",
       "      <td>1.65</td>\n",
       "      <td>13952.0</td>\n",
       "      <td>35</td>\n",
       "      <td>19.80</td>\n",
       "    </tr>\n",
       "    <tr>\n",
       "      <td>...</td>\n",
       "      <td>...</td>\n",
       "      <td>...</td>\n",
       "      <td>...</td>\n",
       "      <td>...</td>\n",
       "      <td>...</td>\n",
       "      <td>...</td>\n",
       "      <td>...</td>\n",
       "      <td>...</td>\n",
       "      <td>...</td>\n",
       "    </tr>\n",
       "    <tr>\n",
       "      <td>199995</td>\n",
       "      <td>19930</td>\n",
       "      <td>170</td>\n",
       "      <td>1953</td>\n",
       "      <td>-1</td>\n",
       "      <td>2011-05-12 10:29:00</td>\n",
       "      <td>1.65</td>\n",
       "      <td>14606.0</td>\n",
       "      <td>35</td>\n",
       "      <td>-1.65</td>\n",
       "    </tr>\n",
       "    <tr>\n",
       "      <td>199996</td>\n",
       "      <td>9942</td>\n",
       "      <td>2075</td>\n",
       "      <td>3500</td>\n",
       "      <td>6</td>\n",
       "      <td>2011-07-27 14:21:00</td>\n",
       "      <td>2.08</td>\n",
       "      <td>12397.0</td>\n",
       "      <td>3</td>\n",
       "      <td>12.48</td>\n",
       "    </tr>\n",
       "    <tr>\n",
       "      <td>199997</td>\n",
       "      <td>15999</td>\n",
       "      <td>856</td>\n",
       "      <td>318</td>\n",
       "      <td>2</td>\n",
       "      <td>2011-11-11 10:49:00</td>\n",
       "      <td>3.75</td>\n",
       "      <td>17295.0</td>\n",
       "      <td>35</td>\n",
       "      <td>7.50</td>\n",
       "    </tr>\n",
       "    <tr>\n",
       "      <td>199998</td>\n",
       "      <td>3833</td>\n",
       "      <td>441</td>\n",
       "      <td>2424</td>\n",
       "      <td>1</td>\n",
       "      <td>2011-03-11 13:03:00</td>\n",
       "      <td>0.85</td>\n",
       "      <td>15311.0</td>\n",
       "      <td>35</td>\n",
       "      <td>0.85</td>\n",
       "    </tr>\n",
       "    <tr>\n",
       "      <td>199999</td>\n",
       "      <td>13431</td>\n",
       "      <td>930</td>\n",
       "      <td>1128</td>\n",
       "      <td>12</td>\n",
       "      <td>2011-10-05 15:52:00</td>\n",
       "      <td>0.42</td>\n",
       "      <td>12723.0</td>\n",
       "      <td>13</td>\n",
       "      <td>5.04</td>\n",
       "    </tr>\n",
       "  </tbody>\n",
       "</table>\n",
       "<p>199326 rows × 9 columns</p>\n",
       "</div>"
      ],
      "text/plain": [
       "        InvoiceNo  StockCode  Description  Quantity          InvoiceDate  \\\n",
       "0            6141       1583          144         3  2011-05-06 16:54:00   \n",
       "1            6349       1300         3682         6  2011-05-11 07:35:00   \n",
       "2           16783       2178         1939         4  2011-11-20 13:20:00   \n",
       "3           16971       2115         2983         1  2011-11-22 12:07:00   \n",
       "4            6080       1210         2886        12  2011-05-06 09:00:00   \n",
       "...           ...        ...          ...       ...                  ...   \n",
       "199995      19930        170         1953        -1  2011-05-12 10:29:00   \n",
       "199996       9942       2075         3500         6  2011-07-27 14:21:00   \n",
       "199997      15999        856          318         2  2011-11-11 10:49:00   \n",
       "199998       3833        441         2424         1  2011-03-11 13:03:00   \n",
       "199999      13431        930         1128        12  2011-10-05 15:52:00   \n",
       "\n",
       "        UnitPrice  CustomerID  Country  TotalPrice  \n",
       "0            3.75     14056.0       35       11.25  \n",
       "1            1.95     13098.0       35       11.70  \n",
       "2            5.95     15044.0       35       23.80  \n",
       "3            0.83     15525.0       35        0.83  \n",
       "4            1.65     13952.0       35       19.80  \n",
       "...           ...         ...      ...         ...  \n",
       "199995       1.65     14606.0       35       -1.65  \n",
       "199996       2.08     12397.0        3       12.48  \n",
       "199997       3.75     17295.0       35        7.50  \n",
       "199998       0.85     15311.0       35        0.85  \n",
       "199999       0.42     12723.0       13        5.04  \n",
       "\n",
       "[199326 rows x 9 columns]"
      ]
     },
     "execution_count": 4,
     "metadata": {},
     "output_type": "execute_result"
    }
   ],
   "source": [
    "# Eliminating values that cause problems with clustering\n",
    "data = data[(data['TotalPrice'] >= -400) & (data['TotalPrice'] <= 400)]\n",
    "data"
   ]
  },
  {
   "cell_type": "code",
   "execution_count": 5,
   "metadata": {},
   "outputs": [
    {
     "name": "stdout",
     "output_type": "stream",
     "text": [
      "[[11.25]\n",
      " [11.7 ]\n",
      " [23.8 ]\n",
      " ...\n",
      " [ 7.5 ]\n",
      " [ 0.85]\n",
      " [ 5.04]]\n"
     ]
    }
   ],
   "source": [
    "## setting X\n",
    "X = data.iloc[:, [8]].values\n",
    "print(X)"
   ]
  },
  {
   "cell_type": "markdown",
   "metadata": {},
   "source": [
    "## Encoding categorical data"
   ]
  },
  {
   "cell_type": "code",
   "execution_count": 7,
   "metadata": {},
   "outputs": [
    {
     "name": "stdout",
     "output_type": "stream",
     "text": [
      "[[0. 0. 0. ... 0. 1. 0.]\n",
      " [0. 0. 0. ... 0. 1. 0.]\n",
      " [0. 0. 0. ... 0. 1. 0.]\n",
      " ...\n",
      " [0. 0. 0. ... 0. 1. 0.]\n",
      " [0. 0. 0. ... 0. 1. 0.]\n",
      " [0. 0. 0. ... 0. 0. 0.]]\n"
     ]
    },
    {
     "name": "stderr",
     "output_type": "stream",
     "text": [
      "C:\\Users\\riyar\\Anaconda3\\lib\\site-packages\\sklearn\\preprocessing\\_encoders.py:415: FutureWarning: The handling of integer data will change in version 0.22. Currently, the categories are determined based on the range [0, max(values)], while in the future they will be determined based on the unique values.\n",
      "If you want the future behaviour and silence this warning, you can specify \"categories='auto'\".\n",
      "In case you used a LabelEncoder before this OneHotEncoder to convert the categories to integers, then you can now use the OneHotEncoder directly.\n",
      "  warnings.warn(msg, FutureWarning)\n"
     ]
    }
   ],
   "source": [
    "from sklearn import preprocessing\n",
    "\n",
    "country = data.iloc[:, [7]]\n",
    "\n",
    "le = preprocessing.LabelEncoder()\n",
    "X_c = country.apply(le.fit_transform)\n",
    "\n",
    "enc = preprocessing.OneHotEncoder()\n",
    "enc.fit(X_c)\n",
    "encodedlabels = enc.transform(X_c).toarray()\n",
    "\n",
    "print(encodedlabels)"
   ]
  },
  {
   "cell_type": "code",
   "execution_count": 8,
   "metadata": {},
   "outputs": [
    {
     "name": "stdout",
     "output_type": "stream",
     "text": [
      "[[11.25  0.    0.   ...  0.    1.    0.  ]\n",
      " [11.7   0.    0.   ...  0.    1.    0.  ]\n",
      " [23.8   0.    0.   ...  0.    1.    0.  ]\n",
      " ...\n",
      " [ 7.5   0.    0.   ...  0.    1.    0.  ]\n",
      " [ 0.85  0.    0.   ...  0.    1.    0.  ]\n",
      " [ 5.04  0.    0.   ...  0.    0.    0.  ]]\n"
     ]
    }
   ],
   "source": [
    "## Concatenating the encoded categorical data\n",
    "X = np.concatenate((X, encodedlabels), axis=1)\n",
    "print(X)"
   ]
  },
  {
   "cell_type": "markdown",
   "metadata": {
    "colab_type": "text",
    "id": "nWC2EWp2Lx5G"
   },
   "source": [
    "## Using the elbow method to find the optimal number of clusters"
   ]
  },
  {
   "cell_type": "code",
   "execution_count": 9,
   "metadata": {},
   "outputs": [
    {
     "data": {
      "image/png": "[encoded data removed]",
      "text/plain": [
       "<Figure size 432x288 with 1 Axes>"
      ]
     },
     "metadata": {
      "needs_background": "light"
     },
     "output_type": "display_data"
    }
   ],
   "source": [
    "from sklearn.cluster import KMeans\n",
    "wcss = []\n",
    "for i in range(1, 11):\n",
    "    kmeans = KMeans(n_clusters = i, init = 'k-means++')\n",
    "    kmeans.fit(X)\n",
    "    wcss.append(kmeans.inertia_)\n",
    "plt.plot(range(1, 11), wcss)\n",
    "plt.title('The Elbow Method')\n",
    "plt.xlabel('Number of clusters')\n",
    "plt.ylabel('WCSS')\n",
    "plt.show()"
   ]
  },
  {
   "cell_type": "markdown",
   "metadata": {},
   "source": [
    "### From the graph we can infer that the optimum number of clusters would be 3 because thats where the curve starts decreasing"
   ]
  },
  {
   "cell_type": "markdown",
   "metadata": {
    "colab_type": "text",
    "id": "VgT0mANLL4Nz"
   },
   "source": [
    "## Training the K-Means model on the dataset"
   ]
  },
  {
   "cell_type": "code",
   "execution_count": 10,
   "metadata": {},
   "outputs": [],
   "source": [
    "kmeans = KMeans(n_clusters = 3, init = 'k-means++')\n",
    "y = kmeans.fit_predict(X)"
   ]
  },
  {
   "cell_type": "code",
   "execution_count": 11,
   "metadata": {},
   "outputs": [
    {
     "name": "stdout",
     "output_type": "stream",
     "text": [
      "[[11.25 35.  ]\n",
      " [11.7  35.  ]\n",
      " [23.8  35.  ]\n",
      " ...\n",
      " [ 7.5  35.  ]\n",
      " [ 0.85 35.  ]\n",
      " [ 5.04 13.  ]]\n"
     ]
    }
   ],
   "source": [
    "X_p = np.concatenate((X[:, :1], country.values), axis = 1)\n",
    "print(X_p)"
   ]
  },
  {
   "cell_type": "markdown",
   "metadata": {
    "colab_type": "text",
    "id": "e7YrS1JAMFnm"
   },
   "source": [
    "## Visualising the clusters"
   ]
  },
  {
   "cell_type": "code",
   "execution_count": 12,
   "metadata": {
    "colab": {
     "base_uri": "https://localhost:8080/",
     "height": 295
    },
    "colab_type": "code",
    "executionInfo": {
     "elapsed": 2048,
     "status": "ok",
     "timestamp": 1586372929246,
     "user": {
      "displayName": "Hadelin de Ponteves",
      "photoUrl": "https://lh3.googleusercontent.com/a-/AOh14GhEuXdT7eQweUmRPW8_laJuPggSK6hfvpl5a6WBaA=s64",
      "userId": "15047218817161520419"
     },
     "user_tz": -240
    },
    "id": "d0ZYecccMHNx",
    "outputId": "01079a1c-4593-4c3e-8c0c-47229c27cd84"
   },
   "outputs": [
    {
     "data": {
      "image/png": "[encoded data removed]",
      "text/plain": [
       "<Figure size 432x288 with 1 Axes>"
      ]
     },
     "metadata": {
      "needs_background": "light"
     },
     "output_type": "display_data"
    }
   ],
   "source": [
    "plt.scatter(X_p[y == 0, 1], X_p[y == 0, 0], s = 40, c = 'red', label = 'Cluster 1')\n",
    "plt.scatter(X_p[y == 1, 1], X_p[y == 1, 0], s = 40, c = 'pink', label = 'Cluster 2')\n",
    "plt.scatter(X_p[y == 2, 1], X_p[y == 2, 0], s = 40, c = 'yellow', label = 'Cluster 3')\n",
    "plt.title('Clusters of Invoices')\n",
    "plt.xlabel('Country')\n",
    "plt.ylabel('Total Price')\n",
    "plt.legend()\n",
    "plt.show()"
   ]
  },
  {
   "cell_type": "markdown",
   "metadata": {},
   "source": [
    "## INFERENCES :\n",
    "### 1.We can see that the cluster 3 i.e the one in red colour has the values of price below zero. This suggests that if we decrese the clustering there then we can avail more profits.For this we need to concentrate more on the countries that contribute largely to the cluster no 3. \n",
    "### Example : country number 35 contributes immensely to cluster no 3 indicating that its total prices frequently goes below 0. So the orders from this country need some improvement.\n",
    "\n",
    "### 2.On comparing the yellow and pink clusters we can clearly observe that the pink cluster is highly concentrated .If we target and increase the total price in this cluster then our profits will increase.\n",
    "### 3.The yellow cluster indicates maximum total prices which directly tells us that the countries who highly contribute to this cluster eg country 0,35 or 10 are following the correct advertising techniques . Wheres other countries like country number 5 or 25 need to follow those to increase their total price .\n"
   ]
  },
  {
   "cell_type": "markdown",
   "metadata": {},
   "source": [
    "## Unique Inferences"
   ]
  },
  {
   "cell_type": "code",
   "execution_count": 13,
   "metadata": {},
   "outputs": [
    {
     "name": "stdout",
     "output_type": "stream",
     "text": [
      "        StockCode  Description  Country\n",
      "1819            0         1698       35\n",
      "15490           0         1698       35\n",
      "30156           0         1698       35\n",
      "38985           0         1698       35\n",
      "57358           0         1698       13\n",
      "...           ...          ...      ...\n",
      "199114       3683         2624       13\n",
      "199314       3683         2624       13\n",
      "199323       3683         2624        9\n",
      "199491       3683         2624       14\n",
      "199576       3683         2624       14\n",
      "\n",
      "[199326 rows x 3 columns]\n"
     ]
    },
    {
     "name": "stderr",
     "output_type": "stream",
     "text": [
      "C:\\Users\\riyar\\Anaconda3\\lib\\site-packages\\ipykernel_launcher.py:3: SettingWithCopyWarning: \n",
      "A value is trying to be set on a copy of a slice from a DataFrame\n",
      "\n",
      "See the caveats in the documentation: http://pandas.pydata.org/pandas-docs/stable/user_guide/indexing.html#returning-a-view-versus-a-copy\n",
      "  This is separate from the ipykernel package so we can avoid doing imports until\n"
     ]
    }
   ],
   "source": [
    "# sorting data frame by name\n",
    "data.sort_values([\"StockCode\", \"Description\"], axis=0,\n",
    "                 ascending=True, inplace=True)\n",
    "print(data.iloc[:,[1,2,7]])"
   ]
  },
  {
   "cell_type": "markdown",
   "metadata": {},
   "source": [
    "### Another thing to note is that each StockCode has the same Description number. This tells us its the same product each time and its delivered to different countries."
   ]
  },
  {
   "cell_type": "code",
   "execution_count": 14,
   "metadata": {},
   "outputs": [
    {
     "data": {
      "text/plain": [
       "3249    1012\n",
       "1292     858\n",
       "3235     835\n",
       "3069     711\n",
       "170      689\n",
       "        ... \n",
       "2540       1\n",
       "2935       1\n",
       "3462       1\n",
       "32         1\n",
       "2551       1\n",
       "Name: StockCode, Length: 3540, dtype: int64"
      ]
     },
     "execution_count": 14,
     "metadata": {},
     "output_type": "execute_result"
    }
   ],
   "source": [
    "data['StockCode'].value_counts()"
   ]
  },
  {
   "cell_type": "markdown",
   "metadata": {},
   "source": [
    "### From this we can infer that the product having StockCode 3249 has nighest number of orders whereas order number 2551 has only one order."
   ]
  }
 ],
 "metadata": {
  "colab": {
   "authorship_tag": "ABX9TyN979dFKn9B6Ro9v0hJ4uqU",
   "name": "K-Means Clustering",
   "provenance": [],
   "toc_visible": true
  },
  "kernelspec": {
   "display_name": "Python 3",
   "language": "python",
   "name": "python3"
  },
  "language_info": {
   "codemirror_mode": {
    "name": "ipython",
    "version": 3
   },
   "file_extension": ".py",
   "mimetype": "text/x-python",
   "name": "python",
   "nbconvert_exporter": "python",
   "pygments_lexer": "ipython3",
   "version": "3.7.4"
  }
 },
 "nbformat": 4,
 "nbformat_minor": 1
}
